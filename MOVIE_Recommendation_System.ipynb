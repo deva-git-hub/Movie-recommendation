{
  "nbformat": 4,
  "nbformat_minor": 0,
  "metadata": {
    "colab": {
      "name": "MOVIE Recommendation System.ipynb",
      "provenance": []
    },
    "kernelspec": {
      "name": "python3",
      "display_name": "Python 3"
    },
    "language_info": {
      "name": "python"
    }
  },
  "cells": [
    {
      "cell_type": "code",
      "metadata": {
        "id": "-ia3PJ9bwmwi"
      },
      "source": [
        " ! pip install -q kaggle\n",
        " "
      ],
      "execution_count": 1,
      "outputs": []
    },
    {
      "cell_type": "code",
      "metadata": {
        "id": "qBGLRG7IwpqZ"
      },
      "source": [
        " from google.colab import files"
      ],
      "execution_count": 2,
      "outputs": []
    },
    {
      "cell_type": "code",
      "metadata": {
        "id": "ztLsdmRSxsZJ"
      },
      "source": [
        "files.upload()"
      ],
      "execution_count": null,
      "outputs": []
    },
    {
      "cell_type": "code",
      "metadata": {
        "id": "ndgPmCfKwudw"
      },
      "source": [
        "! mkdir ~/.kaggle"
      ],
      "execution_count": 4,
      "outputs": []
    },
    {
      "cell_type": "code",
      "metadata": {
        "id": "reMBDmYnww8Z"
      },
      "source": [
        "! cp kaggle.json ~/.kaggle/"
      ],
      "execution_count": 5,
      "outputs": []
    },
    {
      "cell_type": "code",
      "metadata": {
        "id": "jJQwnieGw1Jo"
      },
      "source": [
        "! chmod 600 ~/.kaggle/kaggle.json"
      ],
      "execution_count": 6,
      "outputs": []
    },
    {
      "cell_type": "code",
      "metadata": {
        "id": "Mlpibqu1xSm8"
      },
      "source": [
        ""
      ],
      "execution_count": 8,
      "outputs": []
    },
    {
      "cell_type": "code",
      "metadata": {
        "colab": {
          "base_uri": "https://localhost:8080/"
        },
        "id": "mvjFY03Aw5Mg",
        "outputId": "802cab91-54d4-4111-f3dc-e92524ba3bb8"
      },
      "source": [
        "!kaggle datasets download -d stefanoleone992/imdb-extensive-dataset"
      ],
      "execution_count": 8,
      "outputs": [
        {
          "output_type": "stream",
          "text": [
            "Downloading imdb-extensive-dataset.zip to /content\n",
            " 70% 58.0M/82.3M [00:00<00:00, 99.9MB/s]\n",
            "100% 82.3M/82.3M [00:00<00:00, 185MB/s] \n"
          ],
          "name": "stdout"
        }
      ]
    },
    {
      "cell_type": "code",
      "metadata": {
        "id": "jpW-1P4RxBOY"
      },
      "source": [
        "! mkdir train"
      ],
      "execution_count": 9,
      "outputs": []
    },
    {
      "cell_type": "code",
      "metadata": {
        "colab": {
          "base_uri": "https://localhost:8080/"
        },
        "id": "v3HhvjUByDdR",
        "outputId": "d04ca909-511c-47a0-f0c4-0e603a85ca70"
      },
      "source": [
        "! unzip imdb-extensive-dataset.zip -d train"
      ],
      "execution_count": 11,
      "outputs": [
        {
          "output_type": "stream",
          "text": [
            "Archive:  imdb-extensive-dataset.zip\n",
            "  inflating: train/IMDb movies.csv   \n",
            "  inflating: train/IMDb names.csv    \n",
            "  inflating: train/IMDb ratings.csv  \n",
            "  inflating: train/IMDb title_principals.csv  \n"
          ],
          "name": "stdout"
        }
      ]
    },
    {
      "cell_type": "code",
      "metadata": {
        "id": "IGK2bJnYyK9R"
      },
      "source": [
        "import pandas as pd\n",
        "import numpy as np\n",
        "from sklearn.metrics.pairwise import cosine_similarity\n",
        "from sklearn.feature_extraction.text import CountVectorizer"
      ],
      "execution_count": 12,
      "outputs": []
    },
    {
      "cell_type": "code",
      "metadata": {
        "colab": {
          "base_uri": "https://localhost:8080/"
        },
        "id": "KRKNLQWgyacn",
        "outputId": "bd323a83-f766-4d68-90fc-be41f1514a7a"
      },
      "source": [
        "df = pd.read_csv(\"./train/IMDb movies.csv\")"
      ],
      "execution_count": 13,
      "outputs": [
        {
          "output_type": "stream",
          "text": [
            "/usr/local/lib/python3.7/dist-packages/IPython/core/interactiveshell.py:2718: DtypeWarning: Columns (3) have mixed types.Specify dtype option on import or set low_memory=False.\n",
            "  interactivity=interactivity, compiler=compiler, result=result)\n"
          ],
          "name": "stderr"
        }
      ]
    },
    {
      "cell_type": "code",
      "metadata": {
        "colab": {
          "base_uri": "https://localhost:8080/"
        },
        "id": "zTYmWZllyiyv",
        "outputId": "8a84ea91-2828-4b54-b3cc-79767f5282a0"
      },
      "source": [
        "df.shape"
      ],
      "execution_count": 14,
      "outputs": [
        {
          "output_type": "execute_result",
          "data": {
            "text/plain": [
              "(85855, 22)"
            ]
          },
          "metadata": {
            "tags": []
          },
          "execution_count": 14
        }
      ]
    },
    {
      "cell_type": "code",
      "metadata": {
        "id": "RryxZXPh8X6e"
      },
      "source": [
        "# sample our df\n",
        "\n",
        "sampled_df = df.sample(n = 2021,random_state=1)\n"
      ],
      "execution_count": 18,
      "outputs": []
    },
    {
      "cell_type": "code",
      "metadata": {
        "colab": {
          "base_uri": "https://localhost:8080/"
        },
        "id": "f-KJGuyH9Ufo",
        "outputId": "f8bd2d5b-74d3-420a-e07c-813a8a486bd8"
      },
      "source": [
        "sampled_df.shape"
      ],
      "execution_count": 19,
      "outputs": [
        {
          "output_type": "execute_result",
          "data": {
            "text/plain": [
              "(2021, 22)"
            ]
          },
          "metadata": {
            "tags": []
          },
          "execution_count": 19
        }
      ]
    },
    {
      "cell_type": "code",
      "metadata": {
        "id": "ZVkGvvs7zp0I"
      },
      "source": [
        "# create the list of important columns\n",
        "columns = ['actors','director','writer','genre','description','title']"
      ],
      "execution_count": 20,
      "outputs": []
    },
    {
      "cell_type": "code",
      "metadata": {
        "id": "TNOoHLyt0_op"
      },
      "source": [
        "simplified_df = sampled_df[columns]"
      ],
      "execution_count": 21,
      "outputs": []
    },
    {
      "cell_type": "code",
      "metadata": {
        "colab": {
          "base_uri": "https://localhost:8080/"
        },
        "id": "r2HS6oQH1DNn",
        "outputId": "b73b1a98-7cbe-4051-fb2f-76a6be738c96"
      },
      "source": [
        "# check for missing values\n",
        "simplified_df[simplified_df.isna().any(axis=1)].shape"
      ],
      "execution_count": 22,
      "outputs": [
        {
          "output_type": "execute_result",
          "data": {
            "text/plain": [
              "(87, 6)"
            ]
          },
          "metadata": {
            "tags": []
          },
          "execution_count": 22
        }
      ]
    },
    {
      "cell_type": "code",
      "metadata": {
        "colab": {
          "base_uri": "https://localhost:8080/"
        },
        "id": "OHkaZk3V3ORo",
        "outputId": "92d178dd-e84a-482b-9994-4f58243a454c"
      },
      "source": [
        "simplified_df.dropna(inplace=True)"
      ],
      "execution_count": 23,
      "outputs": [
        {
          "output_type": "stream",
          "text": [
            "/usr/local/lib/python3.7/dist-packages/ipykernel_launcher.py:1: SettingWithCopyWarning: \n",
            "A value is trying to be set on a copy of a slice from a DataFrame\n",
            "\n",
            "See the caveats in the documentation: https://pandas.pydata.org/pandas-docs/stable/user_guide/indexing.html#returning-a-view-versus-a-copy\n",
            "  \"\"\"Entry point for launching an IPython kernel.\n"
          ],
          "name": "stderr"
        }
      ]
    },
    {
      "cell_type": "code",
      "metadata": {
        "colab": {
          "base_uri": "https://localhost:8080/"
        },
        "id": "bHDpHZoB3WIH",
        "outputId": "e8d3fdb3-81db-4fc4-805b-a4e33f64176a"
      },
      "source": [
        "simplified_df.shape"
      ],
      "execution_count": 24,
      "outputs": [
        {
          "output_type": "execute_result",
          "data": {
            "text/plain": [
              "(1934, 6)"
            ]
          },
          "metadata": {
            "tags": []
          },
          "execution_count": 24
        }
      ]
    },
    {
      "cell_type": "code",
      "metadata": {
        "colab": {
          "base_uri": "https://localhost:8080/"
        },
        "id": "uJ_qmMo43ZUn",
        "outputId": "b8bc5740-85f2-4d19-a25c-d964d3f9bd08"
      },
      "source": [
        "# recheck the null values\n",
        "simplified_df.isna().any().any()"
      ],
      "execution_count": 26,
      "outputs": [
        {
          "output_type": "execute_result",
          "data": {
            "text/plain": [
              "False"
            ]
          },
          "metadata": {
            "tags": []
          },
          "execution_count": 26
        }
      ]
    },
    {
      "cell_type": "code",
      "metadata": {
        "colab": {
          "base_uri": "https://localhost:8080/",
          "height": 279
        },
        "id": "yLe4VHvK-JIc",
        "outputId": "55632924-22e8-4a68-ce8c-ec6f12b902e9"
      },
      "source": [
        "simplified_df.head(5)"
      ],
      "execution_count": 27,
      "outputs": [
        {
          "output_type": "execute_result",
          "data": {
            "text/html": [
              "<div>\n",
              "<style scoped>\n",
              "    .dataframe tbody tr th:only-of-type {\n",
              "        vertical-align: middle;\n",
              "    }\n",
              "\n",
              "    .dataframe tbody tr th {\n",
              "        vertical-align: top;\n",
              "    }\n",
              "\n",
              "    .dataframe thead th {\n",
              "        text-align: right;\n",
              "    }\n",
              "</style>\n",
              "<table border=\"1\" class=\"dataframe\">\n",
              "  <thead>\n",
              "    <tr style=\"text-align: right;\">\n",
              "      <th></th>\n",
              "      <th>actors</th>\n",
              "      <th>director</th>\n",
              "      <th>writer</th>\n",
              "      <th>genre</th>\n",
              "      <th>description</th>\n",
              "      <th>title</th>\n",
              "    </tr>\n",
              "  </thead>\n",
              "  <tbody>\n",
              "    <tr>\n",
              "      <th>4683</th>\n",
              "      <td>Deanna Durbin, Gene Kelly, Richard Whorf, Dean...</td>\n",
              "      <td>Robert Siodmak</td>\n",
              "      <td>W. Somerset Maugham, Herman J. Mankiewicz</td>\n",
              "      <td>Crime, Drama, Film-Noir</td>\n",
              "      <td>A young femme fatale-type woman realizes that ...</td>\n",
              "      <td>Vacanze a Natale</td>\n",
              "    </tr>\n",
              "    <tr>\n",
              "      <th>28176</th>\n",
              "      <td>Arnold Schwarzenegger, Danny DeVito, Emma Thom...</td>\n",
              "      <td>Ivan Reitman</td>\n",
              "      <td>Kevin Wade, Chris Conrad</td>\n",
              "      <td>Comedy, Romance, Sci-Fi</td>\n",
              "      <td>As part of a fertility research project, a mal...</td>\n",
              "      <td>Junior</td>\n",
              "    </tr>\n",
              "    <tr>\n",
              "      <th>16686</th>\n",
              "      <td>Henning Jensen, Poul Reichhardt, Jens Okking, ...</td>\n",
              "      <td>Esben Høilund Carlsen</td>\n",
              "      <td>Esben Høilund Carlsen, Torben Nielsen</td>\n",
              "      <td>Crime</td>\n",
              "      <td>A Danish man's girlfriend is killed by a drunk...</td>\n",
              "      <td>Nitten røde roser</td>\n",
              "    </tr>\n",
              "    <tr>\n",
              "      <th>79161</th>\n",
              "      <td>Jamie Bernadette, Vanessa Reynolds, Stacey Dan...</td>\n",
              "      <td>Dylan Reynolds</td>\n",
              "      <td>Dylan Reynolds</td>\n",
              "      <td>Action, Horror</td>\n",
              "      <td>A group of five women go camping in the woods ...</td>\n",
              "      <td>4/20 Massacre</td>\n",
              "    </tr>\n",
              "    <tr>\n",
              "      <th>40856</th>\n",
              "      <td>Masatoshi Nagase, Akiko Monô, Tamaki Ogawa, Ku...</td>\n",
              "      <td>Hiroyuki Nakano</td>\n",
              "      <td>Masatoshi Kimura, Hiroyuki Nakano</td>\n",
              "      <td>Comedy, Romance</td>\n",
              "      <td>Keisuke, an aspiring samurai-movie actor lands...</td>\n",
              "      <td>Stereo Future</td>\n",
              "    </tr>\n",
              "  </tbody>\n",
              "</table>\n",
              "</div>"
            ],
            "text/plain": [
              "                                                  actors  ...              title\n",
              "4683   Deanna Durbin, Gene Kelly, Richard Whorf, Dean...  ...   Vacanze a Natale\n",
              "28176  Arnold Schwarzenegger, Danny DeVito, Emma Thom...  ...             Junior\n",
              "16686  Henning Jensen, Poul Reichhardt, Jens Okking, ...  ...  Nitten røde roser\n",
              "79161  Jamie Bernadette, Vanessa Reynolds, Stacey Dan...  ...      4/20 Massacre\n",
              "40856  Masatoshi Nagase, Akiko Monô, Tamaki Ogawa, Ku...  ...      Stereo Future\n",
              "\n",
              "[5 rows x 6 columns]"
            ]
          },
          "metadata": {
            "tags": []
          },
          "execution_count": 27
        }
      ]
    },
    {
      "cell_type": "code",
      "metadata": {
        "id": "4oHG6BqgrCZR"
      },
      "source": [
        "# lets change the indices\n",
        "\n",
        "simplified_df.index = range(simplified_df.shape[0])"
      ],
      "execution_count": 70,
      "outputs": []
    },
    {
      "cell_type": "code",
      "metadata": {
        "colab": {
          "base_uri": "https://localhost:8080/",
          "height": 279
        },
        "id": "QdESdHBFrP6b",
        "outputId": "e4e88602-7639-4b09-d2fb-a326bda5e897"
      },
      "source": [
        "simplified_df.head(5)"
      ],
      "execution_count": 71,
      "outputs": [
        {
          "output_type": "execute_result",
          "data": {
            "text/html": [
              "<div>\n",
              "<style scoped>\n",
              "    .dataframe tbody tr th:only-of-type {\n",
              "        vertical-align: middle;\n",
              "    }\n",
              "\n",
              "    .dataframe tbody tr th {\n",
              "        vertical-align: top;\n",
              "    }\n",
              "\n",
              "    .dataframe thead th {\n",
              "        text-align: right;\n",
              "    }\n",
              "</style>\n",
              "<table border=\"1\" class=\"dataframe\">\n",
              "  <thead>\n",
              "    <tr style=\"text-align: right;\">\n",
              "      <th></th>\n",
              "      <th>actors</th>\n",
              "      <th>director</th>\n",
              "      <th>writer</th>\n",
              "      <th>genre</th>\n",
              "      <th>description</th>\n",
              "      <th>title</th>\n",
              "    </tr>\n",
              "  </thead>\n",
              "  <tbody>\n",
              "    <tr>\n",
              "      <th>0</th>\n",
              "      <td>Deanna Durbin, Gene Kelly, Richard Whorf, Dean...</td>\n",
              "      <td>Robert Siodmak</td>\n",
              "      <td>W. Somerset Maugham, Herman J. Mankiewicz</td>\n",
              "      <td>Crime, Drama, Film-Noir</td>\n",
              "      <td>A young femme fatale-type woman realizes that ...</td>\n",
              "      <td>Vacanze a Natale</td>\n",
              "    </tr>\n",
              "    <tr>\n",
              "      <th>1</th>\n",
              "      <td>Arnold Schwarzenegger, Danny DeVito, Emma Thom...</td>\n",
              "      <td>Ivan Reitman</td>\n",
              "      <td>Kevin Wade, Chris Conrad</td>\n",
              "      <td>Comedy, Romance, Sci-Fi</td>\n",
              "      <td>As part of a fertility research project, a mal...</td>\n",
              "      <td>Junior</td>\n",
              "    </tr>\n",
              "    <tr>\n",
              "      <th>2</th>\n",
              "      <td>Henning Jensen, Poul Reichhardt, Jens Okking, ...</td>\n",
              "      <td>Esben Høilund Carlsen</td>\n",
              "      <td>Esben Høilund Carlsen, Torben Nielsen</td>\n",
              "      <td>Crime</td>\n",
              "      <td>A Danish man's girlfriend is killed by a drunk...</td>\n",
              "      <td>Nitten røde roser</td>\n",
              "    </tr>\n",
              "    <tr>\n",
              "      <th>3</th>\n",
              "      <td>Jamie Bernadette, Vanessa Reynolds, Stacey Dan...</td>\n",
              "      <td>Dylan Reynolds</td>\n",
              "      <td>Dylan Reynolds</td>\n",
              "      <td>Action, Horror</td>\n",
              "      <td>A group of five women go camping in the woods ...</td>\n",
              "      <td>4/20 Massacre</td>\n",
              "    </tr>\n",
              "    <tr>\n",
              "      <th>4</th>\n",
              "      <td>Masatoshi Nagase, Akiko Monô, Tamaki Ogawa, Ku...</td>\n",
              "      <td>Hiroyuki Nakano</td>\n",
              "      <td>Masatoshi Kimura, Hiroyuki Nakano</td>\n",
              "      <td>Comedy, Romance</td>\n",
              "      <td>Keisuke, an aspiring samurai-movie actor lands...</td>\n",
              "      <td>Stereo Future</td>\n",
              "    </tr>\n",
              "  </tbody>\n",
              "</table>\n",
              "</div>"
            ],
            "text/plain": [
              "                                              actors  ...              title\n",
              "0  Deanna Durbin, Gene Kelly, Richard Whorf, Dean...  ...   Vacanze a Natale\n",
              "1  Arnold Schwarzenegger, Danny DeVito, Emma Thom...  ...             Junior\n",
              "2  Henning Jensen, Poul Reichhardt, Jens Okking, ...  ...  Nitten røde roser\n",
              "3  Jamie Bernadette, Vanessa Reynolds, Stacey Dan...  ...      4/20 Massacre\n",
              "4  Masatoshi Nagase, Akiko Monô, Tamaki Ogawa, Ku...  ...      Stereo Future\n",
              "\n",
              "[5 rows x 6 columns]"
            ]
          },
          "metadata": {
            "tags": []
          },
          "execution_count": 71
        }
      ]
    },
    {
      "cell_type": "code",
      "metadata": {
        "id": "0mS7RUX83gCY"
      },
      "source": [
        "# text to token counts generation\n",
        "cv_actors = CountVectorizer().fit_transform(simplified_df['actors'])\n",
        "cv_genre =  CountVectorizer().fit_transform(simplified_df['genre'])\n",
        "cv_director =  CountVectorizer().fit_transform(simplified_df['director'])\n",
        "cv_writer =  CountVectorizer().fit_transform(simplified_df['writer'])\n",
        "cv_description =  CountVectorizer().fit_transform(simplified_df['description'])"
      ],
      "execution_count": 72,
      "outputs": []
    },
    {
      "cell_type": "code",
      "metadata": {
        "id": "kju_-MMq_5HC"
      },
      "source": [
        "cs_actors = cosine_similarity(cv_actors)\n",
        "cs_genre = cosine_similarity(cv_genre)\n",
        "cs_director = cosine_similarity(cv_director)\n",
        "cs_writer = cosine_similarity(cv_writer)\n",
        "cs_description = cosine_similarity(cv_description)\n"
      ],
      "execution_count": 29,
      "outputs": []
    },
    {
      "cell_type": "code",
      "metadata": {
        "colab": {
          "base_uri": "https://localhost:8080/"
        },
        "id": "Qrq9M11GJU2i",
        "outputId": "94572035-dfbf-4fa3-969e-513c1d7adfa7"
      },
      "source": [
        "cs_actors"
      ],
      "execution_count": 30,
      "outputs": [
        {
          "output_type": "execute_result",
          "data": {
            "text/plain": [
              "array([[1.        , 0.        , 0.        , ..., 0.        , 0.04652421,\n",
              "        0.        ],\n",
              "       [0.        , 1.        , 0.        , ..., 0.03806935, 0.        ,\n",
              "        0.        ],\n",
              "       [0.        , 0.        , 1.        , ..., 0.        , 0.        ,\n",
              "        0.        ],\n",
              "       ...,\n",
              "       [0.        , 0.03806935, 0.        , ..., 1.        , 0.0725954 ,\n",
              "        0.        ],\n",
              "       [0.04652421, 0.        , 0.        , ..., 0.0725954 , 1.        ,\n",
              "        0.        ],\n",
              "       [0.        , 0.        , 0.        , ..., 0.        , 0.        ,\n",
              "        1.        ]])"
            ]
          },
          "metadata": {
            "tags": []
          },
          "execution_count": 30
        }
      ]
    },
    {
      "cell_type": "code",
      "metadata": {
        "colab": {
          "base_uri": "https://localhost:8080/"
        },
        "id": "R6QrNvGZJaFv",
        "outputId": "009354b0-2630-4b68-caa3-a1f6561dbc28"
      },
      "source": [
        "cs_genre"
      ],
      "execution_count": 31,
      "outputs": [
        {
          "output_type": "execute_result",
          "data": {
            "text/plain": [
              "array([[1.        , 0.        , 0.5       , ..., 0.35355339, 0.5       ,\n",
              "        0.        ],\n",
              "       [0.        , 1.        , 0.        , ..., 0.        , 0.        ,\n",
              "        0.5       ],\n",
              "       [0.5       , 0.        , 1.        , ..., 0.        , 0.        ,\n",
              "        0.        ],\n",
              "       ...,\n",
              "       [0.35355339, 0.        , 0.        , ..., 1.        , 0.70710678,\n",
              "        0.        ],\n",
              "       [0.5       , 0.        , 0.        , ..., 0.70710678, 1.        ,\n",
              "        0.        ],\n",
              "       [0.        , 0.5       , 0.        , ..., 0.        , 0.        ,\n",
              "        1.        ]])"
            ]
          },
          "metadata": {
            "tags": []
          },
          "execution_count": 31
        }
      ]
    },
    {
      "cell_type": "markdown",
      "metadata": {
        "id": "RYKzavhtJe0x"
      },
      "source": [
        "lets do the statistics desciribing of our cs matrices, so that we can see whats the need to normalize our matrices"
      ]
    },
    {
      "cell_type": "code",
      "metadata": {
        "id": "xmgmd1R4KOex"
      },
      "source": [
        "# method that describe the given matrix\n",
        "def describe_ndarray(matrix):\n",
        "  return pd.DataFrame(matrix).describe().mean(axis = 1)"
      ],
      "execution_count": 32,
      "outputs": []
    },
    {
      "cell_type": "code",
      "metadata": {
        "colab": {
          "base_uri": "https://localhost:8080/"
        },
        "id": "qWrBd1WDKU64",
        "outputId": "f7b4b1c8-85b1-4c17-b241-f94fff63ddec"
      },
      "source": [
        "describe_ndarray(cs_actors)"
      ],
      "execution_count": 33,
      "outputs": [
        {
          "output_type": "execute_result",
          "data": {
            "text/plain": [
              "count    1934.000000\n",
              "mean        0.009959\n",
              "std         0.031347\n",
              "min         0.000000\n",
              "25%         0.000000\n",
              "50%         0.000014\n",
              "75%         0.011565\n",
              "max         1.000000\n",
              "dtype: float64"
            ]
          },
          "metadata": {
            "tags": []
          },
          "execution_count": 33
        }
      ]
    },
    {
      "cell_type": "code",
      "metadata": {
        "colab": {
          "base_uri": "https://localhost:8080/"
        },
        "id": "al6PatOeKhwA",
        "outputId": "0d59ecdc-f37f-4a4e-df6b-e5148c320e54"
      },
      "source": [
        "describe_ndarray(cs_genre)"
      ],
      "execution_count": 34,
      "outputs": [
        {
          "output_type": "execute_result",
          "data": {
            "text/plain": [
              "count    1934.000000\n",
              "mean        0.268967\n",
              "std         0.280505\n",
              "min         0.000000\n",
              "25%         0.039770\n",
              "50%         0.244341\n",
              "75%         0.447862\n",
              "max         1.000000\n",
              "dtype: float64"
            ]
          },
          "metadata": {
            "tags": []
          },
          "execution_count": 34
        }
      ]
    },
    {
      "cell_type": "markdown",
      "metadata": {
        "id": "h-kmMOhhKw0P"
      },
      "source": [
        "## As we can see scale difference between the average values of two matrices, to make handpicking of 'weights' easier (in our case) we do normalization \n"
      ]
    },
    {
      "cell_type": "code",
      "metadata": {
        "id": "LuTwgwd1EJuV"
      },
      "source": [
        "# function to normalize matrix\n",
        "\n",
        "def normalize_2d(matrix):\n",
        "    norm = np.linalg.norm(matrix)\n",
        "    matrix = abs(matrix - matrix.mean())\n",
        "    matrix = matrix/norm  # normalized matrix\n",
        "    return matrix"
      ],
      "execution_count": 35,
      "outputs": []
    },
    {
      "cell_type": "code",
      "metadata": {
        "id": "tUSeKTdrJY-4"
      },
      "source": [
        "normalized_cs_actors = normalize_2d(cs_actors)\n",
        "normalized_cs_genre = normalize_2d(cs_genre)\n",
        "normalized_cs_director = normalize_2d(cs_director)\n",
        "normalized_cs_writer = normalize_2d(cs_writer)\n",
        "normalized_cs_description = normalize_2d(cs_description)\n"
      ],
      "execution_count": 36,
      "outputs": []
    },
    {
      "cell_type": "code",
      "metadata": {
        "colab": {
          "base_uri": "https://localhost:8080/"
        },
        "id": "oWC2tI7JDUm6",
        "outputId": "9559879b-b4e8-4ce5-dab9-5ab34a27d0a6"
      },
      "source": [
        "describe_ndarray(normalized_cs_description)"
      ],
      "execution_count": 37,
      "outputs": [
        {
          "output_type": "execute_result",
          "data": {
            "text/plain": [
              "count    1934.000000\n",
              "mean        0.000226\n",
              "std         0.000159\n",
              "min         0.000001\n",
              "25%         0.000103\n",
              "50%         0.000203\n",
              "75%         0.000326\n",
              "max         0.002343\n",
              "dtype: float64"
            ]
          },
          "metadata": {
            "tags": []
          },
          "execution_count": 37
        }
      ]
    },
    {
      "cell_type": "code",
      "metadata": {
        "colab": {
          "base_uri": "https://localhost:8080/"
        },
        "id": "cKvP3fMbOP84",
        "outputId": "40043ace-0659-48d6-c471-ac512ef939ef"
      },
      "source": [
        "describe_ndarray(normalized_cs_actors)"
      ],
      "execution_count": 38,
      "outputs": [
        {
          "output_type": "execute_result",
          "data": {
            "text/plain": [
              "count    1934.000000\n",
              "mean        0.000245\n",
              "std         0.000418\n",
              "min         0.000150\n",
              "25%         0.000151\n",
              "50%         0.000151\n",
              "75%         0.000218\n",
              "max         0.015028\n",
              "dtype: float64"
            ]
          },
          "metadata": {
            "tags": []
          },
          "execution_count": 38
        }
      ]
    },
    {
      "cell_type": "markdown",
      "metadata": {
        "id": "IF5NSxaqOb3f"
      },
      "source": [
        "## Now we can see mean of values of matrix are in similar scale\n",
        "\n"
      ]
    },
    {
      "cell_type": "markdown",
      "metadata": {
        "id": "0P0-SR-ZPKGa"
      },
      "source": [
        "### Now lets hand pick the values of weights for each feature "
      ]
    },
    {
      "cell_type": "code",
      "metadata": {
        "id": "ubVrb2mG5xlC"
      },
      "source": [
        "# lets hand pick the weights for the features\n",
        "\n",
        "w_actors, w_genre, w_director, w_description = 57.20, 86.00, 75.00, 44.00 "
      ],
      "execution_count": 40,
      "outputs": []
    },
    {
      "cell_type": "markdown",
      "metadata": {
        "id": "-ekCS9rDRzmP"
      },
      "source": [
        "### get overall similarity by mulitplying each cosine similarity matrix with corresponding weights"
      ]
    },
    {
      "cell_type": "code",
      "metadata": {
        "id": "flv58FLHQa9g"
      },
      "source": [
        "# over-all similarity values\n",
        "\n",
        "similarity = (normalized_cs_actors * w_actors)  + (normalized_cs_genre * w_genre) + (normalized_cs_director * w_director) + (normalized_cs_description * w_description)  "
      ],
      "execution_count": 41,
      "outputs": []
    },
    {
      "cell_type": "code",
      "metadata": {
        "colab": {
          "base_uri": "https://localhost:8080/"
        },
        "id": "JvrDgJ7MS9gZ",
        "outputId": "2bbde75a-168c-4d84-d877-d515c09eae02"
      },
      "source": [
        "similarity.shape"
      ],
      "execution_count": 42,
      "outputs": [
        {
          "output_type": "execute_result",
          "data": {
            "text/plain": [
              "(1934, 1934)"
            ]
          },
          "metadata": {
            "tags": []
          },
          "execution_count": 42
        }
      ]
    },
    {
      "cell_type": "code",
      "metadata": {
        "id": "syHsfPAkrotV"
      },
      "source": [
        "# method to get the index of the movie\n",
        "\n",
        "def get_index_from_movie(movie):\n",
        "  ind = simplified_df[simplified_df['title'] == movie].index\n",
        "  if not ind.empty:\n",
        "    return ind[0]\n",
        "  else:\n",
        "    return -1\n"
      ],
      "execution_count": 94,
      "outputs": []
    },
    {
      "cell_type": "code",
      "metadata": {
        "id": "Id34nJsqvZRD"
      },
      "source": [
        "# method to get the movie name from the list of indices\n",
        "\n",
        "def get_movie_from_index(indices):\n",
        "  movies = []\n",
        "\n",
        "  for id in indices:\n",
        "    movies.append(simplified_df.iloc[id][\"title\"])\n",
        "\n",
        "  return movies"
      ],
      "execution_count": 106,
      "outputs": []
    },
    {
      "cell_type": "code",
      "metadata": {
        "colab": {
          "base_uri": "https://localhost:8080/"
        },
        "id": "hCk4sn_ask42",
        "outputId": "f129b0f3-4c46-4315-8237-b3bf15527305"
      },
      "source": [
        "get_index_from_movie(movie1)"
      ],
      "execution_count": 98,
      "outputs": [
        {
          "output_type": "execute_result",
          "data": {
            "text/plain": [
              "55"
            ]
          },
          "metadata": {
            "tags": []
          },
          "execution_count": 98
        }
      ]
    },
    {
      "cell_type": "code",
      "metadata": {
        "id": "gpOrmEjupuNz"
      },
      "source": [
        "#method to get n similarity movies\n",
        "\n",
        "\n",
        "def get_similar_movies(movie,n=5):\n",
        "  # n --> count of similar movies\n",
        "  \n",
        "  # restrict max movies to 100\n",
        "  if n > 100: n=100\n",
        "\n",
        "  id = get_index_from_movie(movie)\n",
        "\n",
        "  if id == -1:\n",
        "    return [\"No movie found!!\"]\n",
        "  \n",
        "  # indices of top similarity scores\n",
        "  # excluding first value (itself)\n",
        "  indices = (-similarity[id]).argsort()[1:n+1]\n",
        "\n",
        "  movies = get_movie_from_index(indices)\n",
        "\n",
        "  return movies\n",
        "\n"
      ],
      "execution_count": 125,
      "outputs": []
    },
    {
      "cell_type": "code",
      "metadata": {
        "id": "Non_ZiJxx8D1"
      },
      "source": [
        "# lets get the movies similar to these\n",
        "movie1 = \"Stella Days\"\n",
        "movie2 = \"Highland Park\"\n",
        "movie3 = \"Chastity\""
      ],
      "execution_count": 126,
      "outputs": []
    },
    {
      "cell_type": "code",
      "metadata": {
        "colab": {
          "base_uri": "https://localhost:8080/"
        },
        "id": "JNmYWMGVxzMY",
        "outputId": "b74318de-e8e7-4d85-d4aa-f8eba909bf62"
      },
      "source": [
        "print(\"\\n\\n\".join(get_similar_movies(movie1,5)))"
      ],
      "execution_count": 116,
      "outputs": [
        {
          "output_type": "stream",
          "text": [
            "Secret Obsession\n",
            "\n",
            "The Grief of Others\n",
            "\n",
            "L'ultimo re di Scozia\n",
            "\n",
            "I segreti di Filadelfia\n",
            "\n",
            "Pollock\n"
          ],
          "name": "stdout"
        }
      ]
    },
    {
      "cell_type": "code",
      "metadata": {
        "colab": {
          "base_uri": "https://localhost:8080/"
        },
        "id": "vJ88VsD9uF_K",
        "outputId": "4df94293-d823-46ff-e7cb-6847815a02c9"
      },
      "source": [
        "print(\"\\n\\n\".join(get_similar_movies(movie2,5)))"
      ],
      "execution_count": 117,
      "outputs": [
        {
          "output_type": "stream",
          "text": [
            "D-Day Assassins\n",
            "\n",
            "Magicians\n",
            "\n",
            "Burden\n",
            "\n",
            "MindGamers\n",
            "\n",
            "Young and Dangerous 5\n"
          ],
          "name": "stdout"
        }
      ]
    },
    {
      "cell_type": "code",
      "metadata": {
        "colab": {
          "base_uri": "https://localhost:8080/"
        },
        "id": "FlNIeDkKTBL_",
        "outputId": "19a92d87-9029-47f6-94f9-8e47fa56d881"
      },
      "source": [
        "print(\"\\n\\n\".join(get_similar_movies(movie3,5)))"
      ],
      "execution_count": 118,
      "outputs": [
        {
          "output_type": "stream",
          "text": [
            "I nostri ragazzi\n",
            "\n",
            "Débarquement immédiat!\n",
            "\n",
            "Taeter City\n",
            "\n",
            "I familiari delle vittime non saranno avvertiti\n",
            "\n",
            "Love Bites - Il morso dell'alba\n"
          ],
          "name": "stdout"
        }
      ]
    },
    {
      "cell_type": "code",
      "metadata": {
        "colab": {
          "base_uri": "https://localhost:8080/"
        },
        "id": "qdY42Fhq5yx9",
        "outputId": "f0a10e0e-a7d7-4dfe-96f7-4ce48558fac1"
      },
      "source": [
        "get_similar_movies(\"movie that was not in 2021 movies we sampled\")"
      ],
      "execution_count": 131,
      "outputs": [
        {
          "output_type": "execute_result",
          "data": {
            "text/plain": [
              "['No movie found!!']"
            ]
          },
          "metadata": {
            "tags": []
          },
          "execution_count": 131
        }
      ]
    },
    {
      "cell_type": "code",
      "metadata": {
        "id": "PeYFU_RF5_0G"
      },
      "source": [
        ""
      ],
      "execution_count": null,
      "outputs": []
    }
  ]
}